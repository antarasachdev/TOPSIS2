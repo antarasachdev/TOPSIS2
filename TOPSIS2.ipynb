{
  "nbformat": 4,
  "nbformat_minor": 0,
  "metadata": {
    "colab": {
      "provenance": []
    },
    "kernelspec": {
      "name": "python3",
      "display_name": "Python 3"
    },
    "language_info": {
      "name": "python"
    }
  },
  "cells": [
    {
      "cell_type": "code",
      "execution_count": 1,
      "metadata": {
        "id": "yuWou66AeFqD"
      },
      "outputs": [],
      "source": [
        "import numpy as np\n",
        "import pandas as pd\n",
        "from sklearn.preprocessing import MinMaxScaler\n",
        "import matplotlib.pyplot as plt"
      ]
    },
    {
      "cell_type": "code",
      "source": [
        "data = {\n",
        "    'Model': ['Model A', 'Model B', 'Model C', 'Model D'],\n",
        "    'Rouge Score': [0.72, 0.78, 0.65, 0.82],\n",
        "    'BLEU Score': [0.67, 0.74, 0.61, 0.77],\n",
        "    'Inference Time (ms)': [120, 140, 90, 110],\n",
        "    'Memory Usage (MB)': [512, 490, 620, 530]\n",
        "}"
      ],
      "metadata": {
        "id": "OsEW-M3xeJqz"
      },
      "execution_count": 2,
      "outputs": []
    },
    {
      "cell_type": "code",
      "source": [
        "df = pd.DataFrame(data)\n",
        "print(\"Input Data:\")\n",
        "print(df)\n"
      ],
      "metadata": {
        "colab": {
          "base_uri": "https://localhost:8080/"
        },
        "id": "e_Oc2zspeVZw",
        "outputId": "52bf1b9d-418b-4d0a-f9f2-5aed24878121"
      },
      "execution_count": 3,
      "outputs": [
        {
          "output_type": "stream",
          "name": "stdout",
          "text": [
            "Input Data:\n",
            "     Model  Rouge Score  BLEU Score  Inference Time (ms)  Memory Usage (MB)\n",
            "0  Model A         0.72        0.67                  120                512\n",
            "1  Model B         0.78        0.74                  140                490\n",
            "2  Model C         0.65        0.61                   90                620\n",
            "3  Model D         0.82        0.77                  110                530\n"
          ]
        }
      ]
    },
    {
      "cell_type": "code",
      "source": [
        "scaler = MinMaxScaler()\n",
        "normalized_data = scaler.fit_transform(df.iloc[:, 1:])\n",
        "norm_df = pd.DataFrame(normalized_data, columns=df.columns[1:])\n",
        "norm_df['Model'] = df['Model']"
      ],
      "metadata": {
        "id": "19j4Q3vYeaJy"
      },
      "execution_count": 4,
      "outputs": []
    },
    {
      "cell_type": "code",
      "source": [
        "# Define weights for each criterion (adjust as per your problem)\n",
        "weights = [0.4, 0.3, 0.2, 0.1]  # Sum must be 1\n",
        "\n",
        "# Define whether criteria are benefit (+1) or cost (-1)\n",
        "criteria = [1, 1, -1, -1]  # Rouge and BLEU are benefits; Time and Memory are costs\n",
        "\n",
        "# Calculate the weighted normalized decision matrix\n",
        "weighted_matrix = norm_df.iloc[:, :-1].values * weights * criteria\n",
        "\n",
        "# Calculate the ideal best and worst\n",
        "ideal_best = np.max(weighted_matrix, axis=0)\n",
        "ideal_worst = np.min(weighted_matrix, axis=0)\n",
        "\n",
        "# Calculate the distances to the ideal best and worst\n",
        "dist_to_best = np.linalg.norm(weighted_matrix - ideal_best, axis=1)\n",
        "dist_to_worst = np.linalg.norm(weighted_matrix - ideal_worst, axis=1)"
      ],
      "metadata": {
        "id": "uwvfh6T5efPh"
      },
      "execution_count": 6,
      "outputs": []
    },
    {
      "cell_type": "code",
      "source": [
        "# Calculate the TOPSIS score\n",
        "scores = dist_to_worst / (dist_to_best + dist_to_worst)\n",
        "df['TOPSIS Score'] = scores\n",
        "\n",
        "# Rank the models based on the scores\n",
        "df['Rank'] = df['TOPSIS Score'].rank(ascending=False)\n",
        "\n",
        "print(\"\\nTOPSIS Results:\")\n",
        "print(df)"
      ],
      "metadata": {
        "colab": {
          "base_uri": "https://localhost:8080/"
        },
        "id": "T2RM4z5VeoWu",
        "outputId": "046d864f-5366-4e2a-ec05-d9bd97910187"
      },
      "execution_count": 7,
      "outputs": [
        {
          "output_type": "stream",
          "name": "stdout",
          "text": [
            "\n",
            "TOPSIS Results:\n",
            "     Model  Rouge Score  BLEU Score  Inference Time (ms)  Memory Usage (MB)  \\\n",
            "0  Model A         0.72        0.67                  120                512   \n",
            "1  Model B         0.78        0.74                  140                490   \n",
            "2  Model C         0.65        0.61                   90                620   \n",
            "3  Model D         0.82        0.77                  110                530   \n",
            "\n",
            "   TOPSIS Score  Rank  \n",
            "0      0.415323   3.0  \n",
            "1      0.638988   2.0  \n",
            "2      0.281729   4.0  \n",
            "3      0.858220   1.0  \n"
          ]
        }
      ]
    },
    {
      "cell_type": "code",
      "source": [
        "# Plotting the results\n",
        "plt.figure(figsize=(8, 4))\n",
        "plt.bar(df['Model'], df['TOPSIS Score'], color='skyblue')\n",
        "plt.title('TOPSIS Scores for Text Summarization Models')\n",
        "plt.xlabel('Model')\n",
        "plt.ylabel('TOPSIS Score')\n",
        "plt.show()\n"
      ],
      "metadata": {
        "colab": {
          "base_uri": "https://localhost:8080/",
          "height": 410
        },
        "id": "4mN0C8rKesA5",
        "outputId": "c9abddb1-c4d9-498e-a275-89d7e0c3122b"
      },
      "execution_count": 8,
      "outputs": [
        {
          "output_type": "display_data",
          "data": {
            "text/plain": [
              "<Figure size 800x400 with 1 Axes>"
            ],
            "image/png": "[encoded data removed]"
          },
          "metadata": {}
        }
      ]
    },
    {
      "cell_type": "code",
      "source": [
        "# Save results to a CSV file\n",
        "df.to_csv('topsis_results.csv', index=False)\n",
        "print(\"\\nResults saved to topsis_results.csv\")"
      ],
      "metadata": {
        "colab": {
          "base_uri": "https://localhost:8080/"
        },
        "id": "tjiBSVegexDz",
        "outputId": "9fa22dcc-ac4a-4e8a-d362-fe51368851bf"
      },
      "execution_count": 9,
      "outputs": [
        {
          "output_type": "stream",
          "name": "stdout",
          "text": [
            "\n",
            "Results saved to topsis_results.csv\n"
          ]
        }
      ]
    },
    {
      "cell_type": "code",
      "source": [
        "from google.colab import files\n",
        "files.download('topsis_results.csv')\n"
      ],
      "metadata": {
        "colab": {
          "base_uri": "https://localhost:8080/",
          "height": 17
        },
        "id": "O53ni_k5fIx5",
        "outputId": "96cd3be6-325e-4f47-e723-b34b5b073046"
      },
      "execution_count": 17,
      "outputs": [
        {
          "output_type": "display_data",
          "data": {
            "text/plain": [
              "<IPython.core.display.Javascript object>"
            ],
            "application/javascript": [
              "\n",
              "    async function download(id, filename, size) {\n",
              "      if (!google.colab.kernel.accessAllowed) {\n",
              "        return;\n",
              "      }\n",
              "      const div = document.createElement('div');\n",
              "      const label = document.createElement('label');\n",
              "      label.textContent = `Downloading \"${filename}\": `;\n",
              "      div.appendChild(label);\n",
              "      const progress = document.createElement('progress');\n",
              "      progress.max = size;\n",
              "      div.appendChild(progress);\n",
              "      document.body.appendChild(div);\n",
              "\n",
              "      const buffers = [];\n",
              "      let downloaded = 0;\n",
              "\n",
              "      const channel = await google.colab.kernel.comms.open(id);\n",
              "      // Send a message to notify the kernel that we're ready.\n",
              "      channel.send({})\n",
              "\n",
              "      for await (const message of channel.messages) {\n",
              "        // Send a message to notify the kernel that we're ready.\n",
              "        channel.send({})\n",
              "        if (message.buffers) {\n",
              "          for (const buffer of message.buffers) {\n",
              "            buffers.push(buffer);\n",
              "            downloaded += buffer.byteLength;\n",
              "            progress.value = downloaded;\n",
              "          }\n",
              "        }\n",
              "      }\n",
              "      const blob = new Blob(buffers, {type: 'application/binary'});\n",
              "      const a = document.createElement('a');\n",
              "      a.href = window.URL.createObjectURL(blob);\n",
              "      a.download = filename;\n",
              "      div.appendChild(a);\n",
              "      a.click();\n",
              "      div.remove();\n",
              "    }\n",
              "  "
            ]
          },
          "metadata": {}
        },
        {
          "output_type": "display_data",
          "data": {
            "text/plain": [
              "<IPython.core.display.Javascript object>"
            ],
            "application/javascript": [
              "download(\"download_ef2a45cc-2405-4bd6-aa29-1b6bb3a4f699\", \"topsis_results.csv\", 281)"
            ]
          },
          "metadata": {}
        }
      ]
    },
    {
      "cell_type": "code",
      "source": [
        "import matplotlib.pyplot as plt\n",
        "\n",
        "fig, ax = plt.subplots(figsize=(8, 2))\n",
        "ax.axis('tight')\n",
        "ax.axis('off')\n",
        "ax.table(cellText=df.values, colLabels=df.columns, cellLoc='center', loc='center')\n",
        "plt.savefig('topsis_results_table.png', dpi=300, bbox_inches='tight')\n",
        "plt.show()\n"
      ],
      "metadata": {
        "colab": {
          "base_uri": "https://localhost:8080/",
          "height": 191
        },
        "id": "UBOqPTVXhUkV",
        "outputId": "0ed7fea5-9482-4d2c-92fb-5ecabd8135f2"
      },
      "execution_count": 18,
      "outputs": [
        {
          "output_type": "display_data",
          "data": {
            "text/plain": [
              "<Figure size 800x200 with 1 Axes>"
            ],
            "image/png": "[encoded data removed]"
          },
          "metadata": {}
        }
      ]
    }
  ]
}