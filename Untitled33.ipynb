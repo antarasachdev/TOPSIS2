{
  "nbformat": 4,
  "nbformat_minor": 0,
  "metadata": {
    "colab": {
      "provenance": []
    },
    "kernelspec": {
      "name": "python3",
      "display_name": "Python 3"
    },
    "language_info": {
      "name": "python"
    }
  },
  "cells": [
    {
      "cell_type": "code",
      "source": [
        "!pip install pandas matplotlib gitpython\n"
      ],
      "metadata": {
        "colab": {
          "base_uri": "https://localhost:8080/"
        },
        "id": "VGKK37A9UU0d",
        "outputId": "9548eab3-c423-4cd2-9cc5-9a855cdf1b43"
      },
      "execution_count": 2,
      "outputs": [
        {
          "output_type": "stream",
          "name": "stdout",
          "text": [
            "Requirement already satisfied: pandas in /usr/local/lib/python3.11/dist-packages (2.2.2)\n",
            "Requirement already satisfied: matplotlib in /usr/local/lib/python3.11/dist-packages (3.10.0)\n",
            "Requirement already satisfied: gitpython in /usr/local/lib/python3.11/dist-packages (3.1.44)\n",
            "Requirement already satisfied: numpy>=1.23.2 in /usr/local/lib/python3.11/dist-packages (from pandas) (1.26.4)\n",
            "Requirement already satisfied: python-dateutil>=2.8.2 in /usr/local/lib/python3.11/dist-packages (from pandas) (2.8.2)\n",
            "Requirement already satisfied: pytz>=2020.1 in /usr/local/lib/python3.11/dist-packages (from pandas) (2024.2)\n",
            "Requirement already satisfied: tzdata>=2022.7 in /usr/local/lib/python3.11/dist-packages (from pandas) (2025.1)\n",
            "Requirement already satisfied: contourpy>=1.0.1 in /usr/local/lib/python3.11/dist-packages (from matplotlib) (1.3.1)\n",
            "Requirement already satisfied: cycler>=0.10 in /usr/local/lib/python3.11/dist-packages (from matplotlib) (0.12.1)\n",
            "Requirement already satisfied: fonttools>=4.22.0 in /usr/local/lib/python3.11/dist-packages (from matplotlib) (4.55.7)\n",
            "Requirement already satisfied: kiwisolver>=1.3.1 in /usr/local/lib/python3.11/dist-packages (from matplotlib) (1.4.8)\n",
            "Requirement already satisfied: packaging>=20.0 in /usr/local/lib/python3.11/dist-packages (from matplotlib) (24.2)\n",
            "Requirement already satisfied: pillow>=8 in /usr/local/lib/python3.11/dist-packages (from matplotlib) (11.1.0)\n",
            "Requirement already satisfied: pyparsing>=2.3.1 in /usr/local/lib/python3.11/dist-packages (from matplotlib) (3.2.1)\n",
            "Requirement already satisfied: gitdb<5,>=4.0.1 in /usr/local/lib/python3.11/dist-packages (from gitpython) (4.0.12)\n",
            "Requirement already satisfied: smmap<6,>=3.0.1 in /usr/local/lib/python3.11/dist-packages (from gitdb<5,>=4.0.1->gitpython) (5.0.2)\n",
            "Requirement already satisfied: six>=1.5 in /usr/local/lib/python3.11/dist-packages (from python-dateutil>=2.8.2->pandas) (1.17.0)\n"
          ]
        }
      ]
    },
    {
      "cell_type": "code",
      "source": [
        "import os\n",
        "import pandas as pd\n",
        "import matplotlib.pyplot as plt\n",
        "from git import Repo"
      ],
      "metadata": {
        "id": "RQ-PdrVeUZyt"
      },
      "execution_count": 3,
      "outputs": []
    },
    {
      "cell_type": "code",
      "source": [
        "def topsis(data, weights, impacts):\n",
        "    # Step 1: Normalize the decision matrix\n",
        "    norm_data = data / np.sqrt((data**2).sum(axis=0))\n",
        "\n",
        "    # Step 2: Calculate the weighted normalized decision matrix\n",
        "    weighted_data = norm_data * weights\n",
        "\n",
        "    # Step 3: Determine the ideal best and ideal worst solutions\n",
        "    ideal_best = [max(weighted_data[:, j]) if impacts[j] == '+' else min(weighted_data[:, j]) for j in range(weighted_data.shape[1])]\n",
        "    ideal_worst = [min(weighted_data[:, j]) if impacts[j] == '+' else max(weighted_data[:, j]) for j in range(weighted_data.shape[1])]\n",
        "\n",
        "    # Step 4: Calculate the separation measures\n",
        "    distance_to_best = np.sqrt(((weighted_data - ideal_best) ** 2).sum(axis=1))\n",
        "    distance_to_worst = np.sqrt(((weighted_data - ideal_worst) ** 2).sum(axis=1))\n",
        "\n",
        "    # Step 5: Calculate the performance scores\n",
        "    scores = distance_to_worst / (distance_to_best + distance_to_worst)\n",
        "\n",
        "    # Rank models based on performance scores\n",
        "    rankings = scores.argsort()[::-1] + 1\n",
        "    return scores, rankings"
      ],
      "metadata": {
        "id": "jQBKlumIV6ng"
      },
      "execution_count": 7,
      "outputs": []
    },
    {
      "cell_type": "code",
      "source": [
        "def generate_report(data, output_dir):\n",
        "    # Create output directory if not exists\n",
        "    os.makedirs(output_dir, exist_ok=True)\n",
        "\n",
        "    # Save data as a CSV file\n",
        "    data.to_csv(f\"{output_dir}/results.csv\", index=False)\n",
        "\n",
        "    # Generate a bar chart for scores\n",
        "    plt.figure(figsize=(10, 6))\n",
        "    plt.bar(data['Model'], data['Score'], color='skyblue')\n",
        "    plt.xlabel('Models')\n",
        "    plt.ylabel('Scores')\n",
        "    plt.title('Model Performance Scores')\n",
        "    plt.savefig(f\"{output_dir}/performance_chart.png\")\n",
        "    plt.close()\n",
        "\n",
        "    # Generate a Markdown report\n",
        "    with open(f\"{output_dir}/README.md\", \"w\") as f:\n",
        "        f.write(\"# Model Evaluation Report\\n\\n\")\n",
        "        f.write(\"This report contains the evaluation of pre-trained models using the TOPSIS method.\\n\\n\")\n",
        "        f.write(\"## Results Table\\n\\n\")\n",
        "        f.write(data.to_markdown(index=False))\n",
        "        f.write(\"\\n\\n## Performance Chart\\n\\n\")\n",
        "        f.write(\"![Performance Chart](performance_chart.png)\\n\")\n",
        "        f.write(\"\\n\\n## Description\\n\\n\")\n",
        "        f.write(\"The evaluation was conducted using metrics such as Metric 1, Metric 2, and Metric 3. \"\n",
        "                \"Weights and impacts were considered as per their importance and nature.\\n\")\n"
      ],
      "metadata": {
        "id": "0Y-N1UkeUohw"
      },
      "execution_count": 9,
      "outputs": []
    },
    {
      "cell_type": "code",
      "source": [
        "def upload_to_github(repo_path, output_dir, commit_message):\n",
        "    # Assume repo_path is a URL\n",
        "    try:\n",
        "        # Attempt to clone the repository if it doesn't exist locally\n",
        "        repo = Repo.clone_from(repo_path, \"temp_repo\")\n",
        "    except git.exc.GitCommandError:  # Likely already exists\n",
        "        repo = Repo(\"temp_repo\")\n",
        "    # Rest of your code to add, commit, and push changes"
      ],
      "metadata": {
        "id": "Lcu5f1-ZUtSq"
      },
      "execution_count": 19,
      "outputs": []
    },
    {
      "cell_type": "code",
      "source": [
        "if __name__ == \"__main__\":\n",
        "    # Example data\n",
        "    data = pd.DataFrame({\n",
        "        'Model': ['Model A', 'Model B', 'Model C', 'Model D'],\n",
        "        'Metric 1': [0.8, 0.7, 0.9, 0.6],\n",
        "        'Metric 2': [0.7, 0.9, 0.6, 0.8],\n",
        "        'Metric 3': [0.9, 0.6, 0.8, 0.7],\n",
        "        'Score': [0.85, 0.75, 0.90, 0.65],\n",
        "        'Rank': [2, 3, 1, 4]\n",
        "    })"
      ],
      "metadata": {
        "id": "H2z1wxkrU6SV"
      },
      "execution_count": 20,
      "outputs": []
    },
    {
      "cell_type": "code",
      "source": [
        "weights = [0.5, 0.3, 0.2]  # Importance of each metric\n",
        "impacts = ['+', '+', '+']  # '+' for benefit, '-' for cost\n",
        "\n",
        "# Apply TOPSIS\n",
        "metrics_data = data[['Metric 1', 'Metric 2', 'Metric 3']].values # Only include the metric columns\n",
        "scores, rankings = topsis(metrics_data, weights, impacts)\n",
        "\n",
        "data['Score'] = scores\n",
        "data['Rank'] = rankings\n",
        "\n",
        "# Sort data by rank\n",
        "data = data.sort_values(by='Rank')"
      ],
      "metadata": {
        "id": "_-6UrpvhWGL6"
      },
      "execution_count": 21,
      "outputs": []
    },
    {
      "cell_type": "code",
      "source": [
        "output_dir = \"output\"\n",
        "repo_path = repo_path = \"https://github.com/antarasachdev/TOPSIS2\"\n",
        "\n",
        "commit_message = \"Upload TOPSIS results with descriptions and graphs\"\n",
        "\n",
        "# Generate report and upload to GitHub\n",
        "generate_report(data, output_dir)\n",
        "upload_to_github(repo_path, output_dir, commit_message)"
      ],
      "metadata": {
        "id": "ZlN5dzzKVA48"
      },
      "execution_count": 22,
      "outputs": []
    }
  ]
}